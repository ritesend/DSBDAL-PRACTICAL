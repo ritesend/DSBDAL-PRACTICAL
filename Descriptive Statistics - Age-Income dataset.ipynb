{
 "cells": [
  {
   "cell_type": "code",
   "execution_count": 1,
   "id": "88e3c801-ce00-4b15-8145-efdbd8bd6480",
   "metadata": {},
   "outputs": [],
   "source": [
    "import math\n",
    "import pandas as pd"
   ]
  },
  {
   "cell_type": "code",
   "execution_count": 2,
   "id": "1a0d1871-58ef-49f3-a327-42f863760f84",
   "metadata": {},
   "outputs": [],
   "source": [
    "df = pd.read_csv(\"C:/Users/HP/Downloads/Age-Income-Dataset - Sheet1.csv\")"
   ]
  },
  {
   "cell_type": "code",
   "execution_count": 3,
   "id": "55463c6d-831a-426e-94b1-1533a1bf1d10",
   "metadata": {},
   "outputs": [
    {
     "data": {
      "text/html": [
       "<div>\n",
       "<style scoped>\n",
       "    .dataframe tbody tr th:only-of-type {\n",
       "        vertical-align: middle;\n",
       "    }\n",
       "\n",
       "    .dataframe tbody tr th {\n",
       "        vertical-align: top;\n",
       "    }\n",
       "\n",
       "    .dataframe thead th {\n",
       "        text-align: right;\n",
       "    }\n",
       "</style>\n",
       "<table border=\"1\" class=\"dataframe\">\n",
       "  <thead>\n",
       "    <tr style=\"text-align: right;\">\n",
       "      <th></th>\n",
       "      <th>Age</th>\n",
       "      <th>Income</th>\n",
       "    </tr>\n",
       "  </thead>\n",
       "  <tbody>\n",
       "    <tr>\n",
       "      <th>0</th>\n",
       "      <td>Young</td>\n",
       "      <td>25000</td>\n",
       "    </tr>\n",
       "    <tr>\n",
       "      <th>1</th>\n",
       "      <td>Middle Age</td>\n",
       "      <td>54000</td>\n",
       "    </tr>\n",
       "    <tr>\n",
       "      <th>2</th>\n",
       "      <td>Old</td>\n",
       "      <td>60000</td>\n",
       "    </tr>\n",
       "    <tr>\n",
       "      <th>3</th>\n",
       "      <td>Young</td>\n",
       "      <td>15000</td>\n",
       "    </tr>\n",
       "    <tr>\n",
       "      <th>4</th>\n",
       "      <td>Young</td>\n",
       "      <td>45000</td>\n",
       "    </tr>\n",
       "    <tr>\n",
       "      <th>5</th>\n",
       "      <td>Young</td>\n",
       "      <td>65000</td>\n",
       "    </tr>\n",
       "    <tr>\n",
       "      <th>6</th>\n",
       "      <td>Young</td>\n",
       "      <td>70000</td>\n",
       "    </tr>\n",
       "    <tr>\n",
       "      <th>7</th>\n",
       "      <td>Young</td>\n",
       "      <td>30000</td>\n",
       "    </tr>\n",
       "    <tr>\n",
       "      <th>8</th>\n",
       "      <td>Middle Age</td>\n",
       "      <td>27000</td>\n",
       "    </tr>\n",
       "    <tr>\n",
       "      <th>9</th>\n",
       "      <td>Young</td>\n",
       "      <td>23000</td>\n",
       "    </tr>\n",
       "    <tr>\n",
       "      <th>10</th>\n",
       "      <td>Young</td>\n",
       "      <td>48000</td>\n",
       "    </tr>\n",
       "    <tr>\n",
       "      <th>11</th>\n",
       "      <td>Old</td>\n",
       "      <td>52000</td>\n",
       "    </tr>\n",
       "    <tr>\n",
       "      <th>12</th>\n",
       "      <td>Young</td>\n",
       "      <td>33000</td>\n",
       "    </tr>\n",
       "    <tr>\n",
       "      <th>13</th>\n",
       "      <td>Old</td>\n",
       "      <td>80000</td>\n",
       "    </tr>\n",
       "    <tr>\n",
       "      <th>14</th>\n",
       "      <td>Old</td>\n",
       "      <td>75000</td>\n",
       "    </tr>\n",
       "    <tr>\n",
       "      <th>15</th>\n",
       "      <td>Old</td>\n",
       "      <td>35000</td>\n",
       "    </tr>\n",
       "    <tr>\n",
       "      <th>16</th>\n",
       "      <td>Middle Age</td>\n",
       "      <td>29000</td>\n",
       "    </tr>\n",
       "    <tr>\n",
       "      <th>17</th>\n",
       "      <td>Middle Age</td>\n",
       "      <td>57000</td>\n",
       "    </tr>\n",
       "    <tr>\n",
       "      <th>18</th>\n",
       "      <td>Old</td>\n",
       "      <td>43000</td>\n",
       "    </tr>\n",
       "    <tr>\n",
       "      <th>19</th>\n",
       "      <td>Middle Age</td>\n",
       "      <td>56000</td>\n",
       "    </tr>\n",
       "    <tr>\n",
       "      <th>20</th>\n",
       "      <td>Old</td>\n",
       "      <td>63000</td>\n",
       "    </tr>\n",
       "    <tr>\n",
       "      <th>21</th>\n",
       "      <td>Old</td>\n",
       "      <td>32000</td>\n",
       "    </tr>\n",
       "    <tr>\n",
       "      <th>22</th>\n",
       "      <td>Old</td>\n",
       "      <td>45000</td>\n",
       "    </tr>\n",
       "    <tr>\n",
       "      <th>23</th>\n",
       "      <td>Old</td>\n",
       "      <td>89000</td>\n",
       "    </tr>\n",
       "    <tr>\n",
       "      <th>24</th>\n",
       "      <td>Middle Age</td>\n",
       "      <td>90000</td>\n",
       "    </tr>\n",
       "    <tr>\n",
       "      <th>25</th>\n",
       "      <td>Middle Age</td>\n",
       "      <td>93000</td>\n",
       "    </tr>\n",
       "    <tr>\n",
       "      <th>26</th>\n",
       "      <td>Young</td>\n",
       "      <td>80000</td>\n",
       "    </tr>\n",
       "    <tr>\n",
       "      <th>27</th>\n",
       "      <td>Young</td>\n",
       "      <td>87000</td>\n",
       "    </tr>\n",
       "    <tr>\n",
       "      <th>28</th>\n",
       "      <td>Young</td>\n",
       "      <td>38000</td>\n",
       "    </tr>\n",
       "    <tr>\n",
       "      <th>29</th>\n",
       "      <td>Young</td>\n",
       "      <td>23000</td>\n",
       "    </tr>\n",
       "    <tr>\n",
       "      <th>30</th>\n",
       "      <td>Middle Age</td>\n",
       "      <td>38900</td>\n",
       "    </tr>\n",
       "    <tr>\n",
       "      <th>31</th>\n",
       "      <td>Middle Age</td>\n",
       "      <td>53200</td>\n",
       "    </tr>\n",
       "    <tr>\n",
       "      <th>32</th>\n",
       "      <td>Old</td>\n",
       "      <td>43800</td>\n",
       "    </tr>\n",
       "    <tr>\n",
       "      <th>33</th>\n",
       "      <td>Middle Age</td>\n",
       "      <td>25600</td>\n",
       "    </tr>\n",
       "    <tr>\n",
       "      <th>34</th>\n",
       "      <td>Middle Age</td>\n",
       "      <td>65400</td>\n",
       "    </tr>\n",
       "    <tr>\n",
       "      <th>35</th>\n",
       "      <td>Old</td>\n",
       "      <td>76800</td>\n",
       "    </tr>\n",
       "    <tr>\n",
       "      <th>36</th>\n",
       "      <td>Old</td>\n",
       "      <td>89700</td>\n",
       "    </tr>\n",
       "    <tr>\n",
       "      <th>37</th>\n",
       "      <td>Old</td>\n",
       "      <td>41800</td>\n",
       "    </tr>\n",
       "    <tr>\n",
       "      <th>38</th>\n",
       "      <td>Young</td>\n",
       "      <td>31900</td>\n",
       "    </tr>\n",
       "    <tr>\n",
       "      <th>39</th>\n",
       "      <td>Old</td>\n",
       "      <td>25600</td>\n",
       "    </tr>\n",
       "    <tr>\n",
       "      <th>40</th>\n",
       "      <td>Middle Age</td>\n",
       "      <td>45700</td>\n",
       "    </tr>\n",
       "    <tr>\n",
       "      <th>41</th>\n",
       "      <td>Old</td>\n",
       "      <td>35600</td>\n",
       "    </tr>\n",
       "    <tr>\n",
       "      <th>42</th>\n",
       "      <td>Young</td>\n",
       "      <td>54300</td>\n",
       "    </tr>\n",
       "    <tr>\n",
       "      <th>43</th>\n",
       "      <td>Middle Age</td>\n",
       "      <td>65400</td>\n",
       "    </tr>\n",
       "    <tr>\n",
       "      <th>44</th>\n",
       "      <td>Old</td>\n",
       "      <td>67800</td>\n",
       "    </tr>\n",
       "    <tr>\n",
       "      <th>45</th>\n",
       "      <td>Old</td>\n",
       "      <td>24500</td>\n",
       "    </tr>\n",
       "    <tr>\n",
       "      <th>46</th>\n",
       "      <td>Middle Age</td>\n",
       "      <td>34900</td>\n",
       "    </tr>\n",
       "    <tr>\n",
       "      <th>47</th>\n",
       "      <td>Old</td>\n",
       "      <td>45300</td>\n",
       "    </tr>\n",
       "    <tr>\n",
       "      <th>48</th>\n",
       "      <td>Young</td>\n",
       "      <td>68400</td>\n",
       "    </tr>\n",
       "    <tr>\n",
       "      <th>49</th>\n",
       "      <td>Middle Age</td>\n",
       "      <td>51700</td>\n",
       "    </tr>\n",
       "  </tbody>\n",
       "</table>\n",
       "</div>"
      ],
      "text/plain": [
       "           Age  Income\n",
       "0        Young   25000\n",
       "1   Middle Age   54000\n",
       "2          Old   60000\n",
       "3        Young   15000\n",
       "4        Young   45000\n",
       "5        Young   65000\n",
       "6        Young   70000\n",
       "7        Young   30000\n",
       "8   Middle Age   27000\n",
       "9        Young   23000\n",
       "10       Young   48000\n",
       "11         Old   52000\n",
       "12       Young   33000\n",
       "13         Old   80000\n",
       "14         Old   75000\n",
       "15         Old   35000\n",
       "16  Middle Age   29000\n",
       "17  Middle Age   57000\n",
       "18         Old   43000\n",
       "19  Middle Age   56000\n",
       "20         Old   63000\n",
       "21         Old   32000\n",
       "22         Old   45000\n",
       "23         Old   89000\n",
       "24  Middle Age   90000\n",
       "25  Middle Age   93000\n",
       "26       Young   80000\n",
       "27       Young   87000\n",
       "28       Young   38000\n",
       "29       Young   23000\n",
       "30  Middle Age   38900\n",
       "31  Middle Age   53200\n",
       "32         Old   43800\n",
       "33  Middle Age   25600\n",
       "34  Middle Age   65400\n",
       "35         Old   76800\n",
       "36         Old   89700\n",
       "37         Old   41800\n",
       "38       Young   31900\n",
       "39         Old   25600\n",
       "40  Middle Age   45700\n",
       "41         Old   35600\n",
       "42       Young   54300\n",
       "43  Middle Age   65400\n",
       "44         Old   67800\n",
       "45         Old   24500\n",
       "46  Middle Age   34900\n",
       "47         Old   45300\n",
       "48       Young   68400\n",
       "49  Middle Age   51700"
      ]
     },
     "execution_count": 3,
     "metadata": {},
     "output_type": "execute_result"
    }
   ],
   "source": [
    "df"
   ]
  },
  {
   "cell_type": "code",
   "execution_count": 4,
   "id": "b616232e-5089-4c5e-aed2-7e1fb8a6a1de",
   "metadata": {},
   "outputs": [],
   "source": [
    "def mean(x):\n",
    "    y = sum(x)/len(x)\n",
    "    return y"
   ]
  },
  {
   "cell_type": "code",
   "execution_count": 5,
   "id": "acb949b4-bcb6-4328-99a3-7ccb2a2d7edd",
   "metadata": {},
   "outputs": [
    {
     "data": {
      "text/plain": [
       "50966.0"
      ]
     },
     "execution_count": 5,
     "metadata": {},
     "output_type": "execute_result"
    }
   ],
   "source": [
    "mean(df['Income'])"
   ]
  },
  {
   "cell_type": "code",
   "execution_count": 6,
   "id": "5551c4b3-747b-45e4-b48e-0c124aefd5ae",
   "metadata": {},
   "outputs": [],
   "source": [
    "def median(x):\n",
    "    n = len(x)\n",
    "    if n%2:\n",
    "        scores_median = sorted(x)[round(0.5*(n-1))]\n",
    "    else:\n",
    "        x_ord, index = sorted(x),round(0.5*n)\n",
    "        scores_median = 0.5 * (x_ord[index-1] + x_ord[index])\n",
    "    return(scores_median)"
   ]
  },
  {
   "cell_type": "code",
   "execution_count": 7,
   "id": "c6a28789-991d-4aeb-893a-ae082a3c7600",
   "metadata": {},
   "outputs": [
    {
     "data": {
      "text/plain": [
       "46850.0"
      ]
     },
     "execution_count": 7,
     "metadata": {},
     "output_type": "execute_result"
    }
   ],
   "source": [
    "median(df['Income'])"
   ]
  },
  {
   "cell_type": "code",
   "execution_count": 8,
   "id": "2e0c55ce-d5fd-4235-91eb-568e8d0146a8",
   "metadata": {},
   "outputs": [
    {
     "name": "stdout",
     "output_type": "stream",
     "text": [
      "Young: 15000\n"
     ]
    }
   ],
   "source": [
    "min_income = min(df['Income'])\n",
    "for i in range(len(df)):\n",
    "    if df['Income'][i] == min_income:\n",
    "        print(f\"{df['Age'][i]}: {df['Income'][i]}\")"
   ]
  },
  {
   "cell_type": "code",
   "execution_count": 9,
   "id": "ccd9ea63-7c57-4569-b1c0-24c7cefcb0f6",
   "metadata": {},
   "outputs": [
    {
     "name": "stdout",
     "output_type": "stream",
     "text": [
      "Middle Age: 93000\n"
     ]
    }
   ],
   "source": [
    "max_income = max(df['Income'])\n",
    "for i in range(len(df)):\n",
    "    if df['Income'][i] == max_income:\n",
    "        print(f\"{df['Age'][i]}: {df['Income'][i]}\")"
   ]
  },
  {
   "cell_type": "code",
   "execution_count": 10,
   "id": "6b336e48-c0a6-414e-9f99-0fc863251cf0",
   "metadata": {},
   "outputs": [],
   "source": [
    "def std_deviation(x):\n",
    "    n = len(x)\n",
    "    score_mean = sum(x)/n\n",
    "    score_var = sum((item - score_mean)**2 for item in x)/n-1\n",
    "    std_devi = math.sqrt(score_var)\n",
    "    return round(std_devi,ndigits = 2)"
   ]
  },
  {
   "cell_type": "code",
   "execution_count": 11,
   "id": "1182ec98-6c4b-4563-b89f-3082b4c8d593",
   "metadata": {},
   "outputs": [
    {
     "data": {
      "text/plain": [
       "20884.65"
      ]
     },
     "execution_count": 11,
     "metadata": {},
     "output_type": "execute_result"
    }
   ],
   "source": [
    "std_deviation(df['Income'])"
   ]
  },
  {
   "cell_type": "code",
   "execution_count": 12,
   "id": "a994c6fd-26ff-427a-9f2d-30187ee5c664",
   "metadata": {},
   "outputs": [],
   "source": [
    "def variance(x):\n",
    "    n = len(x)\n",
    "    score_mean = sum(x)/n\n",
    "    score_var = sum((item - score_mean)**2 for item in x)/n-1\n",
    "    return round(score_var,ndigits = 2)"
   ]
  },
  {
   "cell_type": "code",
   "execution_count": 14,
   "id": "a7fdf5d3-dafc-45b2-8728-26ef5aad7824",
   "metadata": {},
   "outputs": [
    {
     "data": {
      "text/plain": [
       "436168643.0"
      ]
     },
     "execution_count": 14,
     "metadata": {},
     "output_type": "execute_result"
    }
   ],
   "source": [
    "variance(df['Income'])"
   ]
  },
  {
   "cell_type": "code",
   "execution_count": 15,
   "id": "65a0cf1f-9043-4246-9986-b0237b804755",
   "metadata": {},
   "outputs": [],
   "source": [
    "import pandas as pd\n",
    "import numpy as np\n",
    "import math\n",
    "import statistics"
   ]
  },
  {
   "cell_type": "code",
   "execution_count": 16,
   "id": "b6a15e14-c1b6-458b-b5ed-1a51c76cb285",
   "metadata": {},
   "outputs": [],
   "source": [
    "mean = np.mean(df['Income'])"
   ]
  },
  {
   "cell_type": "code",
   "execution_count": 17,
   "id": "f6842d6e-4d9a-4dd1-a483-6250a7d911d7",
   "metadata": {},
   "outputs": [],
   "source": [
    "median = np.median(df['Income'])"
   ]
  },
  {
   "cell_type": "code",
   "execution_count": 19,
   "id": "bc8cf5cb-4c80-49d3-aff5-a7861bb38b04",
   "metadata": {},
   "outputs": [
    {
     "name": "stdout",
     "output_type": "stream",
     "text": [
      "21096.68\n"
     ]
    }
   ],
   "source": [
    "std_deviation = statistics.stdev(df['Income'])\n",
    "print(round(std_deviation,ndigits = 2))"
   ]
  },
  {
   "cell_type": "code",
   "execution_count": 20,
   "id": "9c267fac-1bf6-4cca-96e3-0d9fe1c9fd8a",
   "metadata": {},
   "outputs": [
    {
     "name": "stdout",
     "output_type": "stream",
     "text": [
      "445070044.9\n"
     ]
    }
   ],
   "source": [
    "variance = statistics.variance(df['Income'])\n",
    "print(round(variance,ndigits = 2))"
   ]
  },
  {
   "cell_type": "code",
   "execution_count": 21,
   "id": "6faa0b83-e9eb-415b-8608-de56bea2eb52",
   "metadata": {},
   "outputs": [],
   "source": [
    "groups = df.groupby('Age')"
   ]
  },
  {
   "cell_type": "code",
   "execution_count": 22,
   "id": "26d4f764-f9f3-4bd3-a8de-f30bcb138282",
   "metadata": {},
   "outputs": [
    {
     "data": {
      "text/plain": [
       "Age\n",
       "Middle Age    52453.333333\n",
       "Old           53942.105263\n",
       "Young         46037.500000\n",
       "Name: Income, dtype: float64"
      ]
     },
     "execution_count": 22,
     "metadata": {},
     "output_type": "execute_result"
    }
   ],
   "source": [
    "df.groupby('Age')['Income'].mean()"
   ]
  },
  {
   "cell_type": "code",
   "execution_count": 23,
   "id": "3d18cc27-0fba-4d12-8a1a-a98064c744e0",
   "metadata": {},
   "outputs": [
    {
     "data": {
      "text/plain": [
       "Age\n",
       "Middle Age    53200.0\n",
       "Old           45300.0\n",
       "Young         41500.0\n",
       "Name: Income, dtype: float64"
      ]
     },
     "execution_count": 23,
     "metadata": {},
     "output_type": "execute_result"
    }
   ],
   "source": [
    "df.groupby('Age')['Income'].median()"
   ]
  },
  {
   "cell_type": "code",
   "execution_count": 24,
   "id": "5be5b9bb-86d8-4511-bf44-e12eaf21fa69",
   "metadata": {},
   "outputs": [
    {
     "data": {
      "text/plain": [
       "Age\n",
       "Middle Age    20497.800114\n",
       "Old           20868.165968\n",
       "Young         22356.859499\n",
       "Name: Income, dtype: float64"
      ]
     },
     "execution_count": 24,
     "metadata": {},
     "output_type": "execute_result"
    }
   ],
   "source": [
    "df.groupby('Age')['Income'].std()"
   ]
  },
  {
   "cell_type": "code",
   "execution_count": 25,
   "id": "2c33c8ac-ca50-4631-95de-bd2fb8f8a4e8",
   "metadata": {},
   "outputs": [
    {
     "data": {
      "text/plain": [
       "Age\n",
       "Middle Age    4.201598e+08\n",
       "Old           4.354804e+08\n",
       "Young         4.998292e+08\n",
       "Name: Income, dtype: float64"
      ]
     },
     "execution_count": 25,
     "metadata": {},
     "output_type": "execute_result"
    }
   ],
   "source": [
    "df.groupby('Age')['Income'].var()"
   ]
  },
  {
   "cell_type": "code",
   "execution_count": null,
   "id": "717c99b8-bb8e-46f4-8113-90ad1f2c805e",
   "metadata": {},
   "outputs": [],
   "source": []
  }
 ],
 "metadata": {
  "kernelspec": {
   "display_name": "Python 3 (ipykernel)",
   "language": "python",
   "name": "python3"
  },
  "language_info": {
   "codemirror_mode": {
    "name": "ipython",
    "version": 3
   },
   "file_extension": ".py",
   "mimetype": "text/x-python",
   "name": "python",
   "nbconvert_exporter": "python",
   "pygments_lexer": "ipython3",
   "version": "3.12.3"
  }
 },
 "nbformat": 4,
 "nbformat_minor": 5
}
